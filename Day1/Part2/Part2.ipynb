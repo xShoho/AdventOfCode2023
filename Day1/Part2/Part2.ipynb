{
 "cells": [
  {
   "cell_type": "code",
   "execution_count": 64,
   "metadata": {},
   "outputs": [
    {
     "data": {
      "text/plain": [
       "['ninefourone1',\n",
       " '53sevenvvqm',\n",
       " 'kscpjfdxp895foureightckjjl1',\n",
       " '72fivebt9ndgq',\n",
       " '28gtbkszmrtmnineoneightmx',\n",
       " 'four66jqrbtqcsxjtqjvfjhl1',\n",
       " 'four8pzznjbhxlhtz6bhtzdxjlg1',\n",
       " 'rgxjrsldrfmzq25szhbldzqhrhbjpkbjlsevenseven',\n",
       " 'slkjvk4threesevenznjqmmfive',\n",
       " '61ppgrkmkfhteightone']"
      ]
     },
     "execution_count": 64,
     "metadata": {},
     "output_type": "execute_result"
    }
   ],
   "source": [
    "path = '../input.txt'\n",
    "lines = []\n",
    "\n",
    "with open(path, 'r') as file:\n",
    "    for line in file:\n",
    "        lines.append(line[:-1])\n",
    "\n",
    "lines[:10]"
   ]
  },
  {
   "cell_type": "code",
   "execution_count": 65,
   "metadata": {},
   "outputs": [],
   "source": [
    "digs = {\n",
    "    'one': '1',\n",
    "    'two': '2',\n",
    "    'three': '3',\n",
    "    'four': '4',\n",
    "    'five': '5',\n",
    "    'six': '6',\n",
    "    'seven': '7',\n",
    "    'eight': '8',\n",
    "    'nine': '9'\n",
    "}"
   ]
  },
  {
   "cell_type": "code",
   "execution_count": 66,
   "metadata": {},
   "outputs": [
    {
     "data": {
      "text/plain": [
       "['n9ef4ro1e1',\n",
       " '53s7nvvqm',\n",
       " 'kscpjfdxp895f4re8tckjjl1',\n",
       " '72f5ebt9ndgq',\n",
       " '28gtbkszmrtmn9eo1e8tmx',\n",
       " 'f4r66jqrbtqcsxjtqjvfjhl1',\n",
       " 'f4r8pzznjbhxlhtz6bhtzdxjlg1',\n",
       " 'rgxjrsldrfmzq25szhbldzqhrhbjpkbjls7ns7n',\n",
       " 'slkjvk4t3es7nznjqmmf5e',\n",
       " '61ppgrkmkfhte8to1e']"
      ]
     },
     "execution_count": 66,
     "metadata": {},
     "output_type": "execute_result"
    }
   ],
   "source": [
    "for i, line in enumerate(lines):\n",
    "    lines[i] = str(lines[i])\n",
    "\n",
    "    for key in list(digs.keys()):\n",
    "        if key in lines[i]:\n",
    "            lines[i] = lines[i].replace(key, key[0] + digs[key] + key[-1])\n",
    "\n",
    "lines[:10]"
   ]
  },
  {
   "cell_type": "code",
   "execution_count": 67,
   "metadata": {},
   "outputs": [
    {
     "data": {
      "text/plain": [
       "[91, 57, 81, 79, 28, 41, 41, 27, 45, 61]"
      ]
     },
     "execution_count": 67,
     "metadata": {},
     "output_type": "execute_result"
    }
   ],
   "source": [
    "nums = []\n",
    "\n",
    "for line in lines:\n",
    "    num = ''\n",
    "    for char in line:\n",
    "        if char.isnumeric():\n",
    "            num += char\n",
    "\n",
    "    num = num[0] + num[-1]\n",
    "    num = int(num)\n",
    "    nums.append(num)\n",
    "\n",
    "nums[:10]"
   ]
  },
  {
   "cell_type": "code",
   "execution_count": 68,
   "metadata": {},
   "outputs": [
    {
     "data": {
      "text/plain": [
       "54265"
      ]
     },
     "execution_count": 68,
     "metadata": {},
     "output_type": "execute_result"
    }
   ],
   "source": [
    "sum = 0\n",
    "\n",
    "for num in nums:\n",
    "    sum += num\n",
    "\n",
    "sum"
   ]
  }
 ],
 "metadata": {
  "kernelspec": {
   "display_name": "conda-env",
   "language": "python",
   "name": "python3"
  },
  "language_info": {
   "codemirror_mode": {
    "name": "ipython",
    "version": 3
   },
   "file_extension": ".py",
   "mimetype": "text/x-python",
   "name": "python",
   "nbconvert_exporter": "python",
   "pygments_lexer": "ipython3",
   "version": "3.11.5"
  }
 },
 "nbformat": 4,
 "nbformat_minor": 2
}
