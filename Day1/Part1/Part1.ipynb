{
 "cells": [
  {
   "cell_type": "code",
   "execution_count": 2,
   "metadata": {},
   "outputs": [
    {
     "data": {
      "text/plain": [
       "['ninefourone1',\n",
       " '53sevenvvqm',\n",
       " 'kscpjfdxp895foureightckjjl1',\n",
       " '72fivebt9ndgq',\n",
       " '28gtbkszmrtmnineoneightmx',\n",
       " 'four66jqrbtqcsxjtqjvfjhl1',\n",
       " 'four8pzznjbhxlhtz6bhtzdxjlg1',\n",
       " 'rgxjrsldrfmzq25szhbldzqhrhbjpkbjlsevenseven',\n",
       " 'slkjvk4threesevenznjqmmfive',\n",
       " '61ppgrkmkfhteightone']"
      ]
     },
     "execution_count": 2,
     "metadata": {},
     "output_type": "execute_result"
    }
   ],
   "source": [
    "path = \"../input.txt\"\n",
    "lines = []\n",
    "\n",
    "with open(path, \"r\") as file:\n",
    "    for line in file:\n",
    "        lines.append(line[:-1])\n",
    "\n",
    "lines[:10]"
   ]
  },
  {
   "cell_type": "code",
   "execution_count": 5,
   "metadata": {},
   "outputs": [
    {
     "data": {
      "text/plain": [
       "[11, 53, 81, 79, 28, 61, 81, 25, 44, 61]"
      ]
     },
     "execution_count": 5,
     "metadata": {},
     "output_type": "execute_result"
    }
   ],
   "source": [
    "nums = []\n",
    "\n",
    "for line in lines:\n",
    "    num = ''\n",
    "\n",
    "    for char in line:\n",
    "        if char.isnumeric():\n",
    "            num += char\n",
    "    \n",
    "    num = num[0] + num [-1]\n",
    "    num = int(num)\n",
    "    nums.append(num)\n",
    "\n",
    "nums[:10]\n"
   ]
  },
  {
   "cell_type": "code",
   "execution_count": 6,
   "metadata": {},
   "outputs": [
    {
     "data": {
      "text/plain": [
       "54450"
      ]
     },
     "execution_count": 6,
     "metadata": {},
     "output_type": "execute_result"
    }
   ],
   "source": [
    "sum = 0\n",
    "\n",
    "for num in nums:\n",
    "    sum += num\n",
    "\n",
    "sum"
   ]
  }
 ],
 "metadata": {
  "kernelspec": {
   "display_name": "conda-env",
   "language": "python",
   "name": "python3"
  },
  "language_info": {
   "codemirror_mode": {
    "name": "ipython",
    "version": 3
   },
   "file_extension": ".py",
   "mimetype": "text/x-python",
   "name": "python",
   "nbconvert_exporter": "python",
   "pygments_lexer": "ipython3",
   "version": "3.11.5"
  }
 },
 "nbformat": 4,
 "nbformat_minor": 2
}
