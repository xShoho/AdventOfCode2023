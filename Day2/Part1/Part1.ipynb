{
 "cells": [
  {
   "cell_type": "code",
   "execution_count": 1,
   "metadata": {},
   "outputs": [
    {
     "data": {
      "text/plain": [
       "['Game 1: 4 red, 18 green, 15 blue; 17 green, 18 blue, 9 red; 8 red, 14 green, 6 blue; 14 green, 12 blue, 2 red',\n",
       " 'Game 2: 6 red, 11 green; 4 blue, 4 green, 5 red; 11 green, 6 blue, 6 red',\n",
       " 'Game 3: 3 red, 3 green; 3 green, 1 blue, 7 red; 3 green, 5 red, 1 blue; 9 red, 4 green; 1 blue, 2 green, 5 red',\n",
       " 'Game 4: 2 blue, 5 green, 9 red; 7 red, 10 blue; 2 green, 14 blue, 5 red; 3 blue, 2 green; 4 green, 10 red, 7 blue; 2 green, 15 blue, 7 red',\n",
       " 'Game 5: 3 red, 2 blue; 5 red, 3 blue; 10 blue, 10 red, 1 green; 4 blue',\n",
       " 'Game 6: 1 green, 10 blue, 5 red; 8 blue, 9 green; 20 green, 7 red, 10 blue; 12 green, 6 blue, 6 red; 10 blue, 11 green; 8 blue, 17 green, 5 red',\n",
       " 'Game 7: 7 green, 12 blue, 3 red; 19 red, 12 blue; 8 blue, 8 red, 7 green; 6 red, 7 green, 5 blue',\n",
       " 'Game 8: 8 blue, 7 red; 13 green, 5 blue, 5 red; 11 blue, 4 green, 7 red; 5 blue, 6 red, 13 green; 7 blue, 12 green, 8 red',\n",
       " 'Game 9: 3 red, 3 blue, 12 green; 2 red, 1 blue, 9 green; 3 red, 12 green, 3 blue; 2 red, 7 green, 2 blue; 8 green, 4 blue; 2 red, 2 green',\n",
       " 'Game 10: 16 green, 10 red; 13 green, 7 red; 8 red, 1 blue, 8 green']"
      ]
     },
     "execution_count": 1,
     "metadata": {},
     "output_type": "execute_result"
    }
   ],
   "source": [
    "import re\n",
    "\n",
    "path = '../input.txt'\n",
    "\n",
    "lines = []\n",
    "\n",
    "with open(path, 'r') as file:\n",
    "    for line in file:\n",
    "        lines.append(line[:-1])\n",
    "    \n",
    "lines[:10]"
   ]
  },
  {
   "cell_type": "code",
   "execution_count": 2,
   "metadata": {},
   "outputs": [],
   "source": [
    "def extract_numbers(data, color):\n",
    "    pattern = rf'(\\d+)\\s+{ color }'\n",
    "    result = re.findall(pattern, line)\n",
    "\n",
    "    for i, match in enumerate(result):\n",
    "        result[i] = int(result[i])\n",
    "\n",
    "    return result"
   ]
  },
  {
   "cell_type": "code",
   "execution_count": 3,
   "metadata": {},
   "outputs": [],
   "source": [
    "def check_possible(num, color):\n",
    "    possible = True\n",
    "\n",
    "    if color == \"red\":\n",
    "        if num > 12:\n",
    "            possible = False\n",
    "    elif color == \"blue\":\n",
    "        if num > 14:\n",
    "            possible = False\n",
    "    elif color == \"green\":\n",
    "        if num > 13:\n",
    "            possible = False\n",
    "\n",
    "    return possible"
   ]
  },
  {
   "cell_type": "code",
   "execution_count": 5,
   "metadata": {},
   "outputs": [
    {
     "data": {
      "text/plain": [
       "2879"
      ]
     },
     "execution_count": 5,
     "metadata": {},
     "output_type": "execute_result"
    }
   ],
   "source": [
    "colors = {\n",
    "    \"red\",\n",
    "    \"blue\",\n",
    "    \"green\"\n",
    "}\n",
    "\n",
    "possible_games = []\n",
    "\n",
    "for i, line in enumerate(lines):\n",
    "    possible = True\n",
    "\n",
    "    for color in colors:\n",
    "        result = extract_numbers(line, color)\n",
    "\n",
    "        for x in result:\n",
    "            if not check_possible(x, color):\n",
    "                possible = False\n",
    "\n",
    "    if possible:\n",
    "        possible_games.append(i + 1)\n",
    "\n",
    "\n",
    "sum(possible_games)"
   ]
  }
 ],
 "metadata": {
  "kernelspec": {
   "display_name": "conda-env",
   "language": "python",
   "name": "python3"
  },
  "language_info": {
   "codemirror_mode": {
    "name": "ipython",
    "version": 3
   },
   "file_extension": ".py",
   "mimetype": "text/x-python",
   "name": "python",
   "nbconvert_exporter": "python",
   "pygments_lexer": "ipython3",
   "version": "3.11.5"
  }
 },
 "nbformat": 4,
 "nbformat_minor": 2
}
